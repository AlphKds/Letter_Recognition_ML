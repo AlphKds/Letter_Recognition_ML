{
  "cells": [
    {
      "cell_type": "code",
      "execution_count": null,
      "metadata": {
        "id": "3527f103-6376-416f-bb87-0af258798b04"
      },
      "outputs": [],
      "source": [
        "import tensorflow\n",
        "import numpy as np\n",
        "import cv2\n",
        "import sklearn\n",
        "from sklearn.preprocessing import LabelBinarizer\n",
        "\n",
        "import scipy\n",
        "\n",
        "from tensorflow.keras.datasets import mnist\n",
        "from tensorflow.keras.preprocessing.image import ImageDataGenerator"
      ],
      "id": "3527f103-6376-416f-bb87-0af258798b04"
    },
    {
      "cell_type": "code",
      "execution_count": null,
      "metadata": {
        "id": "3158a37b-bd0e-4f7d-bf5e-0abe7ede93bd"
      },
      "outputs": [],
      "source": [
        "import numpy as np\n",
        "\n",
        "def load_az_dataset(datasetPath):\n",
        "  data = []\n",
        "  labels = []\n",
        "\n",
        "  for row in open(datasetPath):\n",
        "    row = row.split(\",\")\n",
        "    label = int(row[0])\n",
        "    image = np.array([int(x) for x in row[1:]], dtype=\"uint8\")\n",
        "    image = image.reshape((28, 28))\n",
        "    data.append(image)\n",
        "    labels.append(label)\n",
        "\n",
        "  data = np.array(data, dtype='float32')\n",
        "\n",
        "  labels = np.array(labels, dtype=\"int\")\n",
        "\n",
        "  return (data, labels)"
      ],
      "id": "3158a37b-bd0e-4f7d-bf5e-0abe7ede93bd"
    },
    {
      "cell_type": "code",
      "execution_count": null,
      "metadata": {
        "colab": {
          "base_uri": "https://localhost:8080/"
        },
        "id": "0Stf1uq11RQB",
        "outputId": "72830769-cbec-4097-be54-d1e9dd039b15"
      },
      "outputs": [
        {
          "output_type": "stream",
          "name": "stdout",
          "text": [
            "Mounted at /content/drive\n"
          ]
        }
      ],
      "source": [
        "from google.colab import drive\n",
        "drive.mount('/content/drive')"
      ],
      "id": "0Stf1uq11RQB"
    },
    {
      "cell_type": "code",
      "execution_count": null,
      "metadata": {
        "id": "6b0d5910-d0e4-4ec7-a01b-b226c6c9048f"
      },
      "outputs": [],
      "source": [
        "(azData, azLabels) = load_az_dataset('/content/drive/MyDrive/A_Z Handwritten Data.csv')"
      ],
      "id": "6b0d5910-d0e4-4ec7-a01b-b226c6c9048f"
    },
    {
      "cell_type": "code",
      "execution_count": null,
      "metadata": {
        "id": "b9317c94-3ad6-484b-a348-037d472bb934"
      },
      "outputs": [],
      "source": [
        "import cv2\n",
        "\n",
        "data = np.vstack([azData])\n",
        "labels = np.hstack([azLabels])\n",
        "\n",
        "data = [cv2.resize(image, (32, 32)) for image in data]\n",
        "data = np.array(data, dtype=\"float32\")\n",
        "\n",
        "data = np.expand_dims(data, axis=-1)\n",
        "data /= 255.0"
      ],
      "id": "b9317c94-3ad6-484b-a348-037d472bb934"
    },
    {
      "cell_type": "code",
      "execution_count": null,
      "metadata": {
        "id": "1c4ee4a4-0ae7-4c8f-bb36-01701b9323ed"
      },
      "outputs": [],
      "source": [
        "le = LabelBinarizer()\n",
        "labels = le.fit_transform(labels)\n",
        "\n",
        "counts = labels.sum(axis=0)\n",
        "\n",
        "classTotals = labels.sum(axis=0)\n",
        "classWeight = {}\n",
        "\n",
        "for i in range(0, len(classTotals)):\n",
        "  classWeight[i] = classTotals.max() / classTotals[i]"
      ],
      "id": "1c4ee4a4-0ae7-4c8f-bb36-01701b9323ed"
    },
    {
      "cell_type": "code",
      "execution_count": null,
      "metadata": {
        "id": "e130b134-d54e-46d3-a1ed-cf235c312924"
      },
      "outputs": [],
      "source": [
        "\n",
        "aug = ImageDataGenerator(\n",
        "  rotation_range=10,\n",
        "  zoom_range=0.05,\n",
        "  width_shift_range=0.1,\n",
        "  height_shift_range=0.1,\n",
        "  shear_range=0.15,\n",
        "  horizontal_flip=False,\n",
        "  fill_mode=\"nearest\"\n",
        ")"
      ],
      "id": "e130b134-d54e-46d3-a1ed-cf235c312924"
    },
    {
      "cell_type": "code",
      "execution_count": null,
      "metadata": {
        "id": "92d42c31-8dc7-4cd4-ae9c-2bc86f610205"
      },
      "outputs": [],
      "source": [
        "from sklearn.model_selection import train_test_split\n",
        "\n",
        "trainX, testX, trainY, testY = train_test_split(data, labels, train_size=0.5, test_size=0.25)"
      ],
      "id": "92d42c31-8dc7-4cd4-ae9c-2bc86f610205"
    },
    {
      "cell_type": "code",
      "execution_count": null,
      "metadata": {
        "id": "bbe38371-28b4-4453-9ce1-f58147420e36"
      },
      "outputs": [],
      "source": [
        "from keras.layers import BatchNormalization\n",
        "from keras.layers import Conv2D\n",
        "from keras.layers import AveragePooling2D\n",
        "from keras.layers import MaxPooling2D\n",
        "from keras.layers import ZeroPadding2D\n",
        "from keras.layers import Activation\n",
        "from keras.layers import Dense\n",
        "from keras.layers import Flatten\n",
        "from keras.layers import Input\n",
        "from keras.models import Model\n",
        "from keras.layers import add\n",
        "from keras.regularizers import l2\n",
        "from keras import backend as K\n",
        "\n",
        "class ResNet:\n",
        "\t@staticmethod\n",
        "\tdef residual_module(data, K, stride, chanDim, red=False,\n",
        "\t\treg=0.0001, bnEps=2e-5, bnMom=0.9):\n",
        "\t\tshortcut = data\n",
        "\n",
        "\t\tbn1 = BatchNormalization(axis=chanDim, epsilon=bnEps,\n",
        "\t\t\tmomentum=bnMom)(data)\n",
        "\t\tact1 = Activation(\"relu\")(bn1)\n",
        "\t\tconv1 = Conv2D(int(K * 0.25), (1, 1), use_bias=False,\n",
        "\t\t\tkernel_regularizer=l2(reg))(act1)\n",
        "\n",
        "\t\tbn2 = BatchNormalization(axis=chanDim, epsilon=bnEps,\n",
        "\t\t\tmomentum=bnMom)(conv1)\n",
        "\t\tact2 = Activation(\"relu\")(bn2)\n",
        "\t\tconv2 = Conv2D(int(K * 0.25), (3, 3), strides=stride,\n",
        "\t\t\tpadding=\"same\", use_bias=False,\n",
        "\t\t\tkernel_regularizer=l2(reg))(act2)\n",
        "\n",
        "\t\tbn3 = BatchNormalization(axis=chanDim, epsilon=bnEps,\n",
        "\t\t\tmomentum=bnMom)(conv2)\n",
        "\t\tact3 = Activation(\"relu\")(bn3)\n",
        "\t\tconv3 = Conv2D(K, (1, 1), use_bias=False,\n",
        "\t\t\tkernel_regularizer=l2(reg))(act3)\n",
        "\n",
        "\t\tif red:\n",
        "\t\t\tshortcut = Conv2D(K, (1, 1), strides=stride,\n",
        "\t\t\t\tuse_bias=False, kernel_regularizer=l2(reg))(act1)\n",
        "\n",
        "\t\tx = add([conv3, shortcut])\n",
        "\n",
        "\t\treturn x\n",
        "\n",
        "\t@staticmethod\n",
        "\tdef build(width, height, depth, classes, stages, filters,\n",
        "\t\treg=0.0001, bnEps=2e-5, bnMom=0.9, dataset=\"cifar\"):\n",
        "\t\tinputShape = (height, width, depth)\n",
        "\t\tchanDim = -1\n",
        "\n",
        "\t\tif K.image_data_format() == \"channels_first\":\n",
        "\t\t\tinputShape = (depth, height, width)\n",
        "\t\t\tchanDim = 1\n",
        "\t\tinputs = Input(shape=inputShape)\n",
        "\t\tx = BatchNormalization(axis=chanDim, epsilon=bnEps,\n",
        "\t\t\tmomentum=bnMom)(inputs)\n",
        "\n",
        "\t\tx = Conv2D(filters[0], (3, 3), use_bias=False,\n",
        "\t\t\tpadding=\"same\", kernel_regularizer=l2(reg))(x)\n",
        "\n",
        "\n",
        "\t\tfor i in range(0, len(stages)):\n",
        "\t\t\tstride = (1, 1) if i == 0 else (2, 2)\n",
        "\t\t\tx = ResNet.residual_module(x, filters[i + 1], stride,\n",
        "\t\t\t\tchanDim, red=True, bnEps=bnEps, bnMom=bnMom)\n",
        "\n",
        "\t\t\tfor j in range(0, stages[i] - 1):\n",
        "\t\t\t\tx = ResNet.residual_module(x, filters[i + 1],\n",
        "\t\t\t\t\t(1, 1), chanDim, bnEps=bnEps, bnMom=bnMom)\n",
        "\n",
        "\t\tx = BatchNormalization(axis=chanDim, epsilon=bnEps,\n",
        "\t\t\tmomentum=bnMom)(x)\n",
        "\t\tx = Activation(\"relu\")(x)\n",
        "\t\tx = AveragePooling2D((8, 8))(x)\n",
        "\n",
        "\t\t# softmax classifier\n",
        "\t\tx = Flatten()(x)\n",
        "\t\tx = Dense(classes, kernel_regularizer=l2(reg))(x)\n",
        "\t\tx = Activation(\"softmax\")(x)\n",
        "\n",
        "\t\tmodel = Model(inputs, x, name=\"resnet\")\n",
        "\n",
        "\t\treturn model"
      ],
      "id": "bbe38371-28b4-4453-9ce1-f58147420e36"
    },
    {
      "cell_type": "code",
      "execution_count": null,
      "metadata": {
        "id": "5f9cc323-e4a9-4f20-954e-d83700f8e56f"
      },
      "outputs": [],
      "source": [
        "EPOCHS = 3\n",
        "INIT_LR = 1e-1\n",
        "BS = 128"
      ],
      "id": "5f9cc323-e4a9-4f20-954e-d83700f8e56f"
    },
    {
      "cell_type": "code",
      "execution_count": null,
      "metadata": {
        "colab": {
          "base_uri": "https://localhost:8080/"
        },
        "id": "e0ac4dc8-5af5-406c-a4d2-ea9014b84686",
        "outputId": "fdea10d2-6471-4f70-acf8-05ec467380e3"
      },
      "outputs": [
        {
          "output_type": "stream",
          "name": "stdout",
          "text": [
            "Epoch 1/3\n",
            "1454/1454 [==============================] - 4329s 3s/step - loss: 1.6025 - accuracy: 0.9090 - val_loss: 0.3533 - val_accuracy: 0.9803\n",
            "Epoch 2/3\n",
            "1454/1454 [==============================] - 4324s 3s/step - loss: 0.6171 - accuracy: 0.9759 - val_loss: 0.3458 - val_accuracy: 0.9792\n",
            "Epoch 3/3\n",
            "1454/1454 [==============================] - 4325s 3s/step - loss: 0.5606 - accuracy: 0.9791 - val_loss: 0.3249 - val_accuracy: 0.9849\n"
          ]
        }
      ],
      "source": [
        "from keras.optimizers import SGD\n",
        "from keras.optimizers.schedules import ExponentialDecay\n",
        "\n",
        "opt = SGD(learning_rate=INIT_LR)\n",
        "\n",
        "model = ResNet.build(32, 32, 1, len(le.classes_), (3, 3, 3),\n",
        "(64, 64, 128, 256), reg=0.0005)\n",
        "\n",
        "model.compile(loss=\"categorical_crossentropy\", optimizer=opt,metrics=[\"accuracy\"])\n",
        "\n",
        "H = model.fit(\n",
        "        aug.flow(trainX, trainY, batch_size=BS),\n",
        "        validation_data=(testX, testY),\n",
        "        steps_per_epoch=len(trainX) // BS,\n",
        "        epochs=EPOCHS,\n",
        "        class_weight=classWeight,\n",
        "        verbose=1\n",
        ")"
      ],
      "id": "e0ac4dc8-5af5-406c-a4d2-ea9014b84686"
    },
    {
      "cell_type": "code",
      "execution_count": null,
      "metadata": {
        "id": "f3792b77-3a79-430f-9473-628c13bdd13e",
        "colab": {
          "base_uri": "https://localhost:8080/"
        },
        "outputId": "5e75b5f7-0234-48ef-f33f-0047b8cb3573"
      },
      "outputs": [
        {
          "output_type": "stream",
          "name": "stderr",
          "text": [
            "/usr/local/lib/python3.10/dist-packages/keras/src/engine/training.py:3079: UserWarning: You are saving your model as an HDF5 file via `model.save()`. This file format is considered legacy. We recommend using instead the native Keras format, e.g. `model.save('my_model.keras')`.\n",
            "  saving_api.save_model(\n"
          ]
        }
      ],
      "source": [
        "model.save('OCR_Resnet.h5',save_format=\"h5\")"
      ],
      "id": "f3792b77-3a79-430f-9473-628c13bdd13e"
    }
  ],
  "metadata": {
    "colab": {
      "provenance": []
    },
    "kernelspec": {
      "display_name": "venv",
      "language": "python",
      "name": "venv"
    },
    "language_info": {
      "codemirror_mode": {
        "name": "ipython",
        "version": 3
      },
      "file_extension": ".py",
      "mimetype": "text/x-python",
      "name": "python",
      "nbconvert_exporter": "python",
      "pygments_lexer": "ipython3",
      "version": "3.11.6"
    }
  },
  "nbformat": 4,
  "nbformat_minor": 5
}